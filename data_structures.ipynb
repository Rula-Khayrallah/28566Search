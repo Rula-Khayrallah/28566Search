{
 "cells": [
  {
   "cell_type": "markdown",
   "id": "b9b5dae7",
   "metadata": {},
   "source": [
    "## Data Structures\n",
    "This notebook contains the class definitions for the data structures to be used by the search algorithms.  \n",
    "\n",
    "**Do not make any modifications to this notebook.**\n"
   ]
  },
  {
   "cell_type": "markdown",
   "id": "7284b454",
   "metadata": {},
   "source": [
    "### Node\n",
    "Use this class to represent Node objects.\n",
    "Make sure you specify the correct state, parent node, action and the cumulative_cost where applicable (ucs).  \n",
    "Use the _solution_ method in your implementation.  \n",
    "The __node_path_ method is a private method.  You are not allowed to use it.\n"
   ]
  },
  {
   "cell_type": "code",
   "execution_count": null,
   "id": "8bcbfeb7",
   "metadata": {},
   "outputs": [],
   "source": [
    "class Node(object):\n",
    "    \"\"\"\n",
    "    Represent a a node in the search tree/graph.\n",
    "    Arguments:\n",
    "    state:  problem state corresponding to this node - defaults to None\n",
    "    parent: the parent Node object corresponding to the predecessor\n",
    "        state or None if root node.\n",
    "    action: the action that got us to the current state or None if root.\n",
    "    cumulative_cost: the cumulative total cost from the root to the\n",
    "        current state - defaults to 0.\n",
    "    Attributes:\n",
    "    parent: the parent Node object corresponding to the predecessor\n",
    "        state or None if root node.\n",
    "    action: the action that got us to the current state or None if root.\n",
    "    cumulative_cost: the cumulative total cost from the root to the\n",
    "        current state\n",
    "    \"\"\"\n",
    "\n",
    "    def __init__(self, state, parent, action, cumulative_cost=0):\n",
    "        self.state = state\n",
    "        self.parent = parent\n",
    "        self.action = action\n",
    "        self.cumulative_cost = cumulative_cost  # cost from root\n",
    "\n",
    "    def solution(self):\n",
    "        \"\"\"\n",
    "        Returns the sequence of actions from the root to this node\n",
    "        :return: list of actions\n",
    "        \"\"\"\n",
    "        return [node.action for node in self._node_path()[1:]]\n",
    "\n",
    "    def _node_path(self):\n",
    "        \"\"\"\n",
    "        Returns list of nodes from the root to this node.\n",
    "        This is a private method.  DO NOT USE IT.\n",
    "        :return: list of Node objects\n",
    "        \"\"\"\n",
    "        node = self\n",
    "        path = []\n",
    "        while node:\n",
    "            path.append(node)\n",
    "            node = node.parent\n",
    "        path.reverse()\n",
    "        return path\n"
   ]
  },
  {
   "cell_type": "markdown",
   "id": "9c704938",
   "metadata": {},
   "source": [
    "### Stack"
   ]
  },
  {
   "cell_type": "code",
   "execution_count": null,
   "id": "8b11bac7",
   "metadata": {},
   "outputs": [],
   "source": [
    "class Stack(object):\n",
    "    \"\"\"\n",
    "    Represent a stack with LIFO (last in first out) queuing\n",
    "    \"\"\"\n",
    "\n",
    "    def __init__(self):\n",
    "        self.list = []\n",
    "\n",
    "    def push(self, item):\n",
    "        \"\"\"\n",
    "        Push the given item on the stack\n",
    "        :param item: (of any type)\n",
    "        :return: None\n",
    "        \"\"\"\n",
    "        self.list.append(item)\n",
    "\n",
    "    def pop(self):\n",
    "        \"\"\"\n",
    "        Remove the most recently pushed item from the stack and return it.\n",
    "        :return: item (of any type)\n",
    "        \"\"\"\n",
    "        return self.list.pop()\n",
    "\n",
    "    def is_empty(self):\n",
    "        \"\"\"\n",
    "        Is this stack empty?\n",
    "        :return: (Boolean) True if the stack is empty, False otherwise\n",
    "        \"\"\"\n",
    "        return not self.list"
   ]
  },
  {
   "cell_type": "markdown",
   "id": "18287b89",
   "metadata": {},
   "source": [
    "### Queue"
   ]
  },
  {
   "cell_type": "code",
   "execution_count": null,
   "id": "1c7b68f8",
   "metadata": {},
   "outputs": [],
   "source": [
    "class Queue:\n",
    "    \"\"\"\n",
    "    Represent a queue with FIFO (first in first out) queuing\n",
    "    \"\"\"\n",
    "\n",
    "    def __init__(self):\n",
    "        self.list = []\n",
    "\n",
    "    def push(self, item):\n",
    "        \"\"\"\n",
    "        Add the given item to the end of the queue\n",
    "        :param item: (of any type)\n",
    "        :return: None\n",
    "        \"\"\"\n",
    "        self.list.insert(0, item)\n",
    "\n",
    "    def pop(self):\n",
    "        \"\"\"\n",
    "        Remove the earliest pushed item from the queue and return it.\n",
    "        :return: item (of any type)\n",
    "        \"\"\"\n",
    "        return self.list.pop()\n",
    "\n",
    "    def is_empty(self):\n",
    "        \"\"\"\n",
    "        Is this queue empty?\n",
    "        :return: (Boolean) True if the queue is empty, False otherwise\n",
    "        \"\"\"\n",
    "        return not self.list"
   ]
  },
  {
   "cell_type": "markdown",
   "id": "5777d7b1",
   "metadata": {},
   "source": [
    "### Priority Queue"
   ]
  },
  {
   "cell_type": "code",
   "execution_count": null,
   "id": "5fbd3bb5",
   "metadata": {},
   "outputs": [],
   "source": [
    "import heapq   \n",
    "\n",
    "class PriorityQueue(object):\n",
    "    \"\"\"\n",
    "    Represent a priority queue container where each item has a priority\n",
    "    associated with it.\n",
    "    \"\"\"\n",
    "\n",
    "    def __init__(self):\n",
    "        self.heap = []\n",
    "        self.count = 0\n",
    "\n",
    "    def push(self, item, priority):\n",
    "        \"\"\"\n",
    "        Add the given item with the given priority to the queue\n",
    "        :param\n",
    "        item: (of any type)\n",
    "        priority: (number or other orderable type)\n",
    "        :return: None\n",
    "        \"\"\"\n",
    "        entry = (priority, self.count, item)\n",
    "        heapq.heappush(self.heap, entry)\n",
    "        self.count += 1\n",
    "\n",
    "    def pop(self):\n",
    "        \"\"\"\n",
    "        Remove the item with the lowest priority from the queue and return it.\n",
    "        :return: item (of any type)\n",
    "        \"\"\"\n",
    "        priority, count, item = heapq.heappop(self.heap)\n",
    "        return item\n",
    "\n",
    "    def is_empty(self):\n",
    "        \"\"\"\n",
    "        Is this priority queue empty?\n",
    "        :return: (Boolean) True if the queue is empty, False otherwise\n",
    "        \"\"\"\n",
    "        return not self.heap"
   ]
  }
 ],
 "metadata": {
  "kernelspec": {
   "display_name": "Python 3 (ipykernel)",
   "language": "python",
   "name": "python3"
  },
  "language_info": {
   "codemirror_mode": {
    "name": "ipython",
    "version": 3
   },
   "file_extension": ".py",
   "mimetype": "text/x-python",
   "name": "python",
   "nbconvert_exporter": "python",
   "pygments_lexer": "ipython3",
   "version": "3.10.11"
  }
 },
 "nbformat": 4,
 "nbformat_minor": 5
}
